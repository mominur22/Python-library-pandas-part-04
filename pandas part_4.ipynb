{
 "cells": [
  {
   "cell_type": "code",
   "execution_count": 3,
   "id": "da12548f",
   "metadata": {},
   "outputs": [],
   "source": [
    "import pandas as pd"
   ]
  },
  {
   "cell_type": "code",
   "execution_count": 5,
   "id": "1ad480a4",
   "metadata": {},
   "outputs": [],
   "source": [
    "# Create a dictionary with mixed data type\n",
    "data={'name':['Rashedul','apel','nayem'],\n",
    "     'age':[24,25,26],\n",
    "     'occupation':['teacher','doctor','farmer'],\n",
    "     'salary':[60000,55000,70000]\n",
    "     }"
   ]
  },
  {
   "cell_type": "code",
   "execution_count": 6,
   "id": "a96b2bee",
   "metadata": {},
   "outputs": [
    {
     "data": {
      "text/plain": [
       "{'name': ['Rashedul', 'apel', 'nayem'],\n",
       " 'age': [24, 25, 26],\n",
       " 'occupation': ['teacher', 'doctor', 'farmer'],\n",
       " 'salary': [60000, 55000, 70000]}"
      ]
     },
     "execution_count": 6,
     "metadata": {},
     "output_type": "execute_result"
    }
   ],
   "source": [
    "data"
   ]
  },
  {
   "cell_type": "code",
   "execution_count": 7,
   "id": "3e32d8f8",
   "metadata": {},
   "outputs": [
    {
     "name": "stdout",
     "output_type": "stream",
     "text": [
      "name          object\n",
      "age            int64\n",
      "occupation    object\n",
      "salary         int64\n",
      "dtype: object\n"
     ]
    }
   ],
   "source": [
    "# create a DataFrame and cheak the data types\n",
    "df=pd.DataFrame(data)\n",
    "print(df.dtypes)"
   ]
  },
  {
   "cell_type": "code",
   "execution_count": 8,
   "id": "e013bd18",
   "metadata": {},
   "outputs": [
    {
     "data": {
      "text/html": [
       "<div>\n",
       "<style scoped>\n",
       "    .dataframe tbody tr th:only-of-type {\n",
       "        vertical-align: middle;\n",
       "    }\n",
       "\n",
       "    .dataframe tbody tr th {\n",
       "        vertical-align: top;\n",
       "    }\n",
       "\n",
       "    .dataframe thead th {\n",
       "        text-align: right;\n",
       "    }\n",
       "</style>\n",
       "<table border=\"1\" class=\"dataframe\">\n",
       "  <thead>\n",
       "    <tr style=\"text-align: right;\">\n",
       "      <th></th>\n",
       "      <th>name</th>\n",
       "      <th>age</th>\n",
       "      <th>occupation</th>\n",
       "      <th>salary</th>\n",
       "    </tr>\n",
       "  </thead>\n",
       "  <tbody>\n",
       "    <tr>\n",
       "      <th>0</th>\n",
       "      <td>Rashedul</td>\n",
       "      <td>24</td>\n",
       "      <td>teacher</td>\n",
       "      <td>60000</td>\n",
       "    </tr>\n",
       "    <tr>\n",
       "      <th>1</th>\n",
       "      <td>apel</td>\n",
       "      <td>25</td>\n",
       "      <td>doctor</td>\n",
       "      <td>55000</td>\n",
       "    </tr>\n",
       "    <tr>\n",
       "      <th>2</th>\n",
       "      <td>nayem</td>\n",
       "      <td>26</td>\n",
       "      <td>farmer</td>\n",
       "      <td>70000</td>\n",
       "    </tr>\n",
       "  </tbody>\n",
       "</table>\n",
       "</div>"
      ],
      "text/plain": [
       "       name  age occupation  salary\n",
       "0  Rashedul   24    teacher   60000\n",
       "1      apel   25     doctor   55000\n",
       "2     nayem   26     farmer   70000"
      ]
     },
     "execution_count": 8,
     "metadata": {},
     "output_type": "execute_result"
    }
   ],
   "source": [
    "df"
   ]
  },
  {
   "cell_type": "markdown",
   "id": "e9cf5c02",
   "metadata": {},
   "source": [
    "# Datetime"
   ]
  },
  {
   "cell_type": "code",
   "execution_count": 11,
   "id": "56d04141",
   "metadata": {},
   "outputs": [
    {
     "data": {
      "text/plain": [
       "dtype('O')"
      ]
     },
     "execution_count": 11,
     "metadata": {},
     "output_type": "execute_result"
    }
   ],
   "source": [
    "# create a list dates \n",
    "dates=['2023-10-04','2024-11-15','2025-01-01']\n",
    "# create a DataFrame with a datetime column\n",
    "df1=pd.DataFrame({'Date':dates})\n",
    "# cheak the data type of the date column\n",
    "df1['Date'].dtype"
   ]
  },
  {
   "cell_type": "code",
   "execution_count": 12,
   "id": "7faa6479",
   "metadata": {},
   "outputs": [
    {
     "ename": "SyntaxError",
     "evalue": "invalid syntax (4175226877.py, line 2)",
     "output_type": "error",
     "traceback": [
      "\u001b[1;36m  Cell \u001b[1;32mIn[12], line 2\u001b[1;36m\u001b[0m\n\u001b[1;33m    df2=pd.DataFrame({'Date2'}:timestamps)\u001b[0m\n\u001b[1;37m                              ^\u001b[0m\n\u001b[1;31mSyntaxError\u001b[0m\u001b[1;31m:\u001b[0m invalid syntax\n"
     ]
    }
   ],
   "source": [
    "timestamps=pd.to_datetime(dates)\n",
    "df2=pd.DataFrame({'Date2'}:timestamps)"
   ]
  },
  {
   "cell_type": "code",
   "execution_count": null,
   "id": "a6662bbc",
   "metadata": {},
   "outputs": [],
   "source": []
  }
 ],
 "metadata": {
  "kernelspec": {
   "display_name": "Python 3 (ipykernel)",
   "language": "python",
   "name": "python3"
  },
  "language_info": {
   "codemirror_mode": {
    "name": "ipython",
    "version": 3
   },
   "file_extension": ".py",
   "mimetype": "text/x-python",
   "name": "python",
   "nbconvert_exporter": "python",
   "pygments_lexer": "ipython3",
   "version": "3.11.5"
  }
 },
 "nbformat": 4,
 "nbformat_minor": 5
}
